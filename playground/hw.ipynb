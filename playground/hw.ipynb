{
 "cells": [
  {
   "cell_type": "code",
   "execution_count": 1,
   "metadata": {},
   "outputs": [
    {
     "name": "stderr",
     "output_type": "stream",
     "text": [
      "/home/omar/Documents/year-4/adls/mase/venv/lib/python3.11/site-packages/tqdm/auto.py:21: TqdmWarning: IProgress not found. Please update jupyter and ipywidgets. See https://ipywidgets.readthedocs.io/en/stable/user_install.html\n",
      "  from .autonotebook import tqdm as notebook_tqdm\n",
      "2025-03-07 15:22:00.252145: E external/local_xla/xla/stream_executor/cuda/cuda_fft.cc:477] Unable to register cuFFT factory: Attempting to register factory for plugin cuFFT when one has already been registered\n",
      "WARNING: All log messages before absl::InitializeLog() is called are written to STDERR\n",
      "E0000 00:00:1741360920.266462  123314 cuda_dnn.cc:8310] Unable to register cuDNN factory: Attempting to register factory for plugin cuDNN when one has already been registered\n",
      "E0000 00:00:1741360920.270368  123314 cuda_blas.cc:1418] Unable to register cuBLAS factory: Attempting to register factory for plugin cuBLAS when one has already been registered\n",
      "2025-03-07 15:22:00.285960: I tensorflow/core/platform/cpu_feature_guard.cc:210] This TensorFlow binary is optimized to use available CPU instructions in performance-critical operations.\n",
      "To enable the following instructions: AVX2 FMA, in other operations, rebuild TensorFlow with the appropriate compiler flags.\n",
      "\u001b[32mINFO    \u001b[0m \u001b[34mSet logging level to debug\u001b[0m\n"
     ]
    },
    {
     "name": "stdout",
     "output_type": "stream",
     "text": [
      "Verilator 5.024 2024-04-05 rev v5.024\n"
     ]
    }
   ],
   "source": [
    "import torch\n",
    "torch.manual_seed(0)\n",
    "\n",
    "from chop.ir.graph.mase_graph import MaseGraph\n",
    "\n",
    "from chop.passes.graph.analysis import (\n",
    "    init_metadata_analysis_pass,\n",
    "    add_common_metadata_analysis_pass,\n",
    "    add_hardware_metadata_analysis_pass,\n",
    "    report_node_type_analysis_pass,\n",
    ")\n",
    "\n",
    "from chop.passes.graph.transforms import (\n",
    "    emit_verilog_top_transform_pass,\n",
    "    emit_internal_rtl_transform_pass,\n",
    "    emit_bram_transform_pass,\n",
    "    emit_cocotb_transform_pass,\n",
    "    quantize_transform_pass,\n",
    ")\n",
    "\n",
    "from chop.tools.logger import set_logging_verbosity\n",
    "\n",
    "set_logging_verbosity(\"debug\")\n",
    "\n",
    "import toml\n",
    "import torch\n",
    "import torch.nn as nn\n",
    "import os\n",
    "\n",
    "# os.environ[\"PATH\"] = \"/vol/bitbucket/oa321/verilator/verilator/bin:\" + os.environ[\"PATH\"]\n",
    "os.environ[\"MODULE\"] = \"top\"\n",
    "!verilator --version"
   ]
  },
  {
   "cell_type": "code",
   "execution_count": 2,
   "metadata": {},
   "outputs": [],
   "source": [
    "class MLP(torch.nn.Module):\n",
    "    \"\"\"\n",
    "    Toy FC model for digit recognition on MNIST\n",
    "    \"\"\"\n",
    "\n",
    "    def __init__(self) -> None:\n",
    "        super().__init__()\n",
    "\n",
    "        self.fc1 = nn.Linear(4, 8)\n",
    "\n",
    "    def forward(self, x):\n",
    "        x = torch.flatten(x, start_dim=1, end_dim=-1)\n",
    "        x = torch.nn.functional.relu(self.fc1(x))\n",
    "        return x"
   ]
  },
  {
   "cell_type": "code",
   "execution_count": 3,
   "metadata": {},
   "outputs": [
    {
     "name": "stderr",
     "output_type": "stream",
     "text": [
      "/home/omar/Documents/year-4/adls/mase/venv/lib/python3.11/site-packages/timm/models/helpers.py:7: FutureWarning: Importing from timm.models.helpers is deprecated, please import via timm.models\n",
      "  warnings.warn(f\"Importing from {__name__} is deprecated, please import via timm.models\", FutureWarning)\n"
     ]
    }
   ],
   "source": [
    "from chop.dataset import MaseDataModule, get_dataset_info\n",
    "from chop.tools.logger import set_logging_verbosity\n",
    "\n",
    "from chop.passes.graph.interface import save_node_meta_param_interface_pass\n",
    "from chop.passes.graph.analysis import (\n",
    "    report_node_meta_param_analysis_pass,\n",
    "    profile_statistics_analysis_pass,\n",
    ")\n",
    "from chop.passes.graph import (\n",
    "    add_common_metadata_analysis_pass,\n",
    "    init_metadata_analysis_pass,\n",
    "    add_software_metadata_analysis_pass,\n",
    ")\n",
    "from chop.tools.get_input import InputGenerator\n",
    "from chop.tools.checkpoint_load import load_model\n",
    "from chop.ir.graph.mase_graph import MaseGraph\n",
    "\n",
    "from chop.models import get_model_info, get_model"
   ]
  },
  {
   "cell_type": "code",
   "execution_count": 4,
   "metadata": {},
   "outputs": [],
   "source": [
    "from chop.dataset.nerf import get_nerf_dataset\n",
    "from chop.dataset import get_dataset_info\n",
    "from pathlib import Path\n",
    "\n",
    "batch_size = 8\n",
    "model_name = \"nerf\"\n",
    "dataset_name = \"nerf-lego\"\n",
    "\n",
    "dataset_info = get_dataset_info(dataset_name)\n",
    "model_info = get_model_info(model_name)\n",
    "\n",
    "data_module = MaseDataModule(\n",
    "    name=dataset_name,\n",
    "    batch_size=batch_size,\n",
    "    model_name='nerf',\n",
    "    num_workers=0,\n",
    ")\n",
    "\n",
    "data_module.prepare_data()\n",
    "data_module.setup()"
   ]
  },
  {
   "cell_type": "code",
   "execution_count": 6,
   "metadata": {},
   "outputs": [],
   "source": [
    "input_generator = InputGenerator(\n",
    "    data_module=data_module,\n",
    "    model_info=model_info,\n",
    "    task=\"nerf\",\n",
    "    which_dataloader=\"train\",\n",
    ")\n",
    "\n",
    "dummy_in = next(iter(input_generator))"
   ]
  },
  {
   "cell_type": "code",
   "execution_count": 7,
   "metadata": {},
   "outputs": [
    {
     "name": "stdout",
     "output_type": "stream",
     "text": [
      "torch.Size([8, 8])\n"
     ]
    }
   ],
   "source": [
    "print(dummy_in['rays'].shape)"
   ]
  },
  {
   "cell_type": "code",
   "execution_count": 20,
   "metadata": {},
   "outputs": [],
   "source": [
    "from chop.models.nerf.nerf_vision import  NeRFVision\n",
    "\n",
    "nerf = NeRFVision()\n",
    "mg = MaseGraph(model=nerf)\n",
    "\n",
    "mg.draw()"
   ]
  },
  {
   "cell_type": "code",
   "execution_count": 10,
   "metadata": {},
   "outputs": [
    {
     "name": "stdout",
     "output_type": "stream",
     "text": [
      "torch.Size([8, 8])\n"
     ]
    }
   ],
   "source": [
    "print(dummy_in['rays'].shape)"
   ]
  },
  {
   "cell_type": "code",
   "execution_count": 12,
   "metadata": {},
   "outputs": [
    {
     "name": "stderr",
     "output_type": "stream",
     "text": [
      "\u001b[36mDEBUG   \u001b[0m \u001b[34mgraph():\n",
      "    %x : [num_users=1] = placeholder[target=x]\n",
      "    %split : [num_users=2] = call_function[target=torch.functional.split](args = (%x, [3, 3]), kwargs = {dim: -1})\n",
      "    %getitem : [num_users=2] = call_function[target=operator.getitem](args = (%split, 0), kwargs = {})\n",
      "    %getitem_1 : [num_users=0] = call_function[target=operator.getitem](args = (%split, 1), kwargs = {})\n",
      "    %pts_linears_0 : [num_users=1] = call_module[target=pts_linears.0](args = (%getitem,), kwargs = {})\n",
      "    %relu : [num_users=1] = call_function[target=torch.nn.functional.relu](args = (%pts_linears_0,), kwargs = {inplace: False})\n",
      "    %pts_linears_1 : [num_users=1] = call_module[target=pts_linears.1](args = (%relu,), kwargs = {})\n",
      "    %relu_1 : [num_users=1] = call_function[target=torch.nn.functional.relu](args = (%pts_linears_1,), kwargs = {inplace: False})\n",
      "    %pts_linears_2 : [num_users=1] = call_module[target=pts_linears.2](args = (%relu_1,), kwargs = {})\n",
      "    %relu_2 : [num_users=1] = call_function[target=torch.nn.functional.relu](args = (%pts_linears_2,), kwargs = {inplace: False})\n",
      "    %pts_linears_3 : [num_users=1] = call_module[target=pts_linears.3](args = (%relu_2,), kwargs = {})\n",
      "    %relu_3 : [num_users=1] = call_function[target=torch.nn.functional.relu](args = (%pts_linears_3,), kwargs = {inplace: False})\n",
      "    %pts_linears_4 : [num_users=1] = call_module[target=pts_linears.4](args = (%relu_3,), kwargs = {})\n",
      "    %relu_4 : [num_users=1] = call_function[target=torch.nn.functional.relu](args = (%pts_linears_4,), kwargs = {inplace: False})\n",
      "    %cat : [num_users=1] = call_function[target=torch.cat](args = ([%getitem, %relu_4], -1), kwargs = {})\n",
      "    %pts_linears_5 : [num_users=1] = call_module[target=pts_linears.5](args = (%cat,), kwargs = {})\n",
      "    %relu_5 : [num_users=1] = call_function[target=torch.nn.functional.relu](args = (%pts_linears_5,), kwargs = {inplace: False})\n",
      "    %pts_linears_6 : [num_users=1] = call_module[target=pts_linears.6](args = (%relu_5,), kwargs = {})\n",
      "    %relu_6 : [num_users=1] = call_function[target=torch.nn.functional.relu](args = (%pts_linears_6,), kwargs = {inplace: False})\n",
      "    %pts_linears_7 : [num_users=1] = call_module[target=pts_linears.7](args = (%relu_6,), kwargs = {})\n",
      "    %relu_7 : [num_users=1] = call_function[target=torch.nn.functional.relu](args = (%pts_linears_7,), kwargs = {inplace: False})\n",
      "    %output_linear : [num_users=1] = call_module[target=output_linear](args = (%relu_7,), kwargs = {})\n",
      "    return output_linear\u001b[0m\n"
     ]
    }
   ],
   "source": [
    "\n",
    "# Provide a dummy input for the graph so it can use for tracing\n",
    "\n",
    "x = torch.randn((batch_size, 6, 6))\n",
    "dummy_in['x'] = x\n",
    "\n",
    "mg, _ = init_metadata_analysis_pass(mg, None)\n",
    "mg, _ = add_common_metadata_analysis_pass(\n",
    "    mg, {\"dummy_in\": dummy_in, \"add_value\": False}\n",
    ")\n"
   ]
  },
  {
   "cell_type": "code",
   "execution_count": 13,
   "metadata": {},
   "outputs": [
    {
     "name": "stderr",
     "output_type": "stream",
     "text": [
      "\u001b[32mINFO    \u001b[0m \u001b[34mInspecting graph [add_common_node_type_analysis_pass]\u001b[0m\n",
      "\u001b[32mINFO    \u001b[0m \u001b[34m\n",
      "Node name      Fx Node op     Mase type            Mase op      Value type\n",
      "-------------  -------------  -------------------  -----------  -------------------------------------------------------\n",
      "x              placeholder    placeholder          placeholder  NA\n",
      "split          call_function  implicit_func        split        float\n",
      "getitem        call_function  builtin_func         getitem      float\n",
      "getitem_1      call_function  builtin_func         getitem      float\n",
      "pts_linears_0  call_module    module_related_func  linear       fixed\n",
      "relu           call_function  module_related_func  relu         fixed\n",
      "pts_linears_1  call_module    module_related_func  linear       fixed\n",
      "relu_1         call_function  module_related_func  relu         fixed\n",
      "pts_linears_2  call_module    module_related_func  linear       fixed\n",
      "relu_2         call_function  module_related_func  relu         fixed\n",
      "pts_linears_3  call_module    module_related_func  linear       fixed\n",
      "relu_3         call_function  module_related_func  relu         fixed\n",
      "pts_linears_4  call_module    module_related_func  linear       fixed\n",
      "relu_4         call_function  module_related_func  relu         fixed\n",
      "cat            call_function  implicit_func        cat          <class 'torch.fx.immutable_collections.immutable_list'>\n",
      "pts_linears_5  call_module    module_related_func  linear       fixed\n",
      "relu_5         call_function  module_related_func  relu         fixed\n",
      "pts_linears_6  call_module    module_related_func  linear       fixed\n",
      "relu_6         call_function  module_related_func  relu         fixed\n",
      "pts_linears_7  call_module    module_related_func  linear       fixed\n",
      "relu_7         call_function  module_related_func  relu         fixed\n",
      "output_linear  call_module    module_related_func  linear       fixed\n",
      "output         output         output               output       NA\u001b[0m\n"
     ]
    }
   ],
   "source": [
    "config_file = os.path.join(\n",
    "    os.path.abspath(\"\"),\n",
    "    \"..\",\n",
    "    \"configs\",\n",
    "    \"tests\",\n",
    "    \"quantize\",\n",
    "    \"fixed.toml\",\n",
    ")\n",
    "with open(config_file, \"r\") as f:\n",
    "    quan_args = toml.load(f)[\"passes\"][\"quantize\"]\n",
    "mg, _ = quantize_transform_pass(mg, quan_args)\n",
    "\n",
    "_ = report_node_type_analysis_pass(mg)\n",
    "\n",
    "# Update the metadata\n",
    "for node in mg.fx_graph.nodes:\n",
    "    for arg, arg_info in node.meta[\"mase\"][\"common\"][\"args\"].items():\n",
    "        if isinstance(arg_info, dict):\n",
    "            arg_info[\"type\"] = \"fixed\"\n",
    "            arg_info[\"precision\"] = [8, 3]\n",
    "    for result, result_info in node.meta[\"mase\"][\"common\"][\"results\"].items():\n",
    "        if isinstance(result_info, dict):\n",
    "            result_info[\"type\"] = \"fixed\"\n",
    "            result_info[\"precision\"] = [8, 3]"
   ]
  },
  {
   "cell_type": "code",
   "execution_count": 19,
   "metadata": {},
   "outputs": [],
   "source": [
    "mg, _ = add_hardware_metadata_analysis_pass(mg, pass_args={'max_parallelism': [4] * 3})"
   ]
  },
  {
   "cell_type": "code",
   "execution_count": 15,
   "metadata": {},
   "outputs": [
    {
     "name": "stderr",
     "output_type": "stream",
     "text": [
      "\u001b[32mINFO    \u001b[0m \u001b[34mEmitting Verilog...\u001b[0m\n"
     ]
    }
   ],
   "source": [
    "from pathlib import  Path\n",
    "\n",
    "mg, _ = emit_verilog_top_transform_pass(mg)\n",
    "# mg, _ = emit_internal_rtl_transform_pass(mg)"
   ]
  },
  {
   "cell_type": "code",
   "execution_count": 16,
   "metadata": {},
   "outputs": [
    {
     "name": "stderr",
     "output_type": "stream",
     "text": [
      "\u001b[32mINFO    \u001b[0m \u001b[34mEmitting BRAM...\u001b[0m\n",
      "\u001b[36mDEBUG   \u001b[0m \u001b[34mEmitting DAT file for node: pts_linears_0, parameter: weight\u001b[0m\n",
      "\u001b[36mDEBUG   \u001b[0m \u001b[34mROM module weight successfully written into /home/omar/.mase/top/hardware/rtl/pts_linears_0_weight_source.sv\u001b[0m\n",
      "\u001b[36mDEBUG   \u001b[0m \u001b[34mInit data weight successfully written into /home/omar/.mase/top/hardware/rtl/pts_linears_0_weight_rom.dat\u001b[0m\n",
      "\u001b[36mDEBUG   \u001b[0m \u001b[34mEmitting DAT file for node: pts_linears_0, parameter: bias\u001b[0m\n",
      "\u001b[36mDEBUG   \u001b[0m \u001b[34mROM module bias successfully written into /home/omar/.mase/top/hardware/rtl/pts_linears_0_bias_source.sv\u001b[0m\n",
      "\u001b[36mDEBUG   \u001b[0m \u001b[34mInit data bias successfully written into /home/omar/.mase/top/hardware/rtl/pts_linears_0_bias_rom.dat\u001b[0m\n",
      "\u001b[36mDEBUG   \u001b[0m \u001b[34mEmitting DAT file for node: pts_linears_1, parameter: weight\u001b[0m\n",
      "\u001b[36mDEBUG   \u001b[0m \u001b[34mROM module weight successfully written into /home/omar/.mase/top/hardware/rtl/pts_linears_1_weight_source.sv\u001b[0m\n",
      "\u001b[36mDEBUG   \u001b[0m \u001b[34mInit data weight successfully written into /home/omar/.mase/top/hardware/rtl/pts_linears_1_weight_rom.dat\u001b[0m\n",
      "\u001b[36mDEBUG   \u001b[0m \u001b[34mEmitting DAT file for node: pts_linears_1, parameter: bias\u001b[0m\n",
      "\u001b[36mDEBUG   \u001b[0m \u001b[34mROM module bias successfully written into /home/omar/.mase/top/hardware/rtl/pts_linears_1_bias_source.sv\u001b[0m\n",
      "\u001b[36mDEBUG   \u001b[0m \u001b[34mInit data bias successfully written into /home/omar/.mase/top/hardware/rtl/pts_linears_1_bias_rom.dat\u001b[0m\n",
      "\u001b[36mDEBUG   \u001b[0m \u001b[34mEmitting DAT file for node: pts_linears_2, parameter: weight\u001b[0m\n",
      "\u001b[36mDEBUG   \u001b[0m \u001b[34mROM module weight successfully written into /home/omar/.mase/top/hardware/rtl/pts_linears_2_weight_source.sv\u001b[0m\n",
      "\u001b[36mDEBUG   \u001b[0m \u001b[34mInit data weight successfully written into /home/omar/.mase/top/hardware/rtl/pts_linears_2_weight_rom.dat\u001b[0m\n",
      "\u001b[36mDEBUG   \u001b[0m \u001b[34mEmitting DAT file for node: pts_linears_2, parameter: bias\u001b[0m\n",
      "\u001b[36mDEBUG   \u001b[0m \u001b[34mROM module bias successfully written into /home/omar/.mase/top/hardware/rtl/pts_linears_2_bias_source.sv\u001b[0m\n",
      "\u001b[36mDEBUG   \u001b[0m \u001b[34mInit data bias successfully written into /home/omar/.mase/top/hardware/rtl/pts_linears_2_bias_rom.dat\u001b[0m\n",
      "\u001b[36mDEBUG   \u001b[0m \u001b[34mEmitting DAT file for node: pts_linears_3, parameter: weight\u001b[0m\n",
      "\u001b[36mDEBUG   \u001b[0m \u001b[34mROM module weight successfully written into /home/omar/.mase/top/hardware/rtl/pts_linears_3_weight_source.sv\u001b[0m\n",
      "\u001b[36mDEBUG   \u001b[0m \u001b[34mInit data weight successfully written into /home/omar/.mase/top/hardware/rtl/pts_linears_3_weight_rom.dat\u001b[0m\n",
      "\u001b[36mDEBUG   \u001b[0m \u001b[34mEmitting DAT file for node: pts_linears_3, parameter: bias\u001b[0m\n",
      "\u001b[36mDEBUG   \u001b[0m \u001b[34mROM module bias successfully written into /home/omar/.mase/top/hardware/rtl/pts_linears_3_bias_source.sv\u001b[0m\n",
      "\u001b[36mDEBUG   \u001b[0m \u001b[34mInit data bias successfully written into /home/omar/.mase/top/hardware/rtl/pts_linears_3_bias_rom.dat\u001b[0m\n",
      "\u001b[36mDEBUG   \u001b[0m \u001b[34mEmitting DAT file for node: pts_linears_4, parameter: weight\u001b[0m\n",
      "\u001b[36mDEBUG   \u001b[0m \u001b[34mROM module weight successfully written into /home/omar/.mase/top/hardware/rtl/pts_linears_4_weight_source.sv\u001b[0m\n",
      "\u001b[36mDEBUG   \u001b[0m \u001b[34mInit data weight successfully written into /home/omar/.mase/top/hardware/rtl/pts_linears_4_weight_rom.dat\u001b[0m\n",
      "\u001b[36mDEBUG   \u001b[0m \u001b[34mEmitting DAT file for node: pts_linears_4, parameter: bias\u001b[0m\n",
      "\u001b[36mDEBUG   \u001b[0m \u001b[34mROM module bias successfully written into /home/omar/.mase/top/hardware/rtl/pts_linears_4_bias_source.sv\u001b[0m\n",
      "\u001b[36mDEBUG   \u001b[0m \u001b[34mInit data bias successfully written into /home/omar/.mase/top/hardware/rtl/pts_linears_4_bias_rom.dat\u001b[0m\n",
      "\u001b[36mDEBUG   \u001b[0m \u001b[34mEmitting DAT file for node: pts_linears_5, parameter: weight\u001b[0m\n",
      "\u001b[36mDEBUG   \u001b[0m \u001b[34mROM module weight successfully written into /home/omar/.mase/top/hardware/rtl/pts_linears_5_weight_source.sv\u001b[0m\n",
      "\u001b[36mDEBUG   \u001b[0m \u001b[34mInit data weight successfully written into /home/omar/.mase/top/hardware/rtl/pts_linears_5_weight_rom.dat\u001b[0m\n",
      "\u001b[36mDEBUG   \u001b[0m \u001b[34mEmitting DAT file for node: pts_linears_5, parameter: bias\u001b[0m\n",
      "\u001b[36mDEBUG   \u001b[0m \u001b[34mROM module bias successfully written into /home/omar/.mase/top/hardware/rtl/pts_linears_5_bias_source.sv\u001b[0m\n",
      "\u001b[36mDEBUG   \u001b[0m \u001b[34mInit data bias successfully written into /home/omar/.mase/top/hardware/rtl/pts_linears_5_bias_rom.dat\u001b[0m\n",
      "\u001b[36mDEBUG   \u001b[0m \u001b[34mEmitting DAT file for node: pts_linears_6, parameter: weight\u001b[0m\n",
      "\u001b[36mDEBUG   \u001b[0m \u001b[34mROM module weight successfully written into /home/omar/.mase/top/hardware/rtl/pts_linears_6_weight_source.sv\u001b[0m\n",
      "\u001b[36mDEBUG   \u001b[0m \u001b[34mInit data weight successfully written into /home/omar/.mase/top/hardware/rtl/pts_linears_6_weight_rom.dat\u001b[0m\n",
      "\u001b[36mDEBUG   \u001b[0m \u001b[34mEmitting DAT file for node: pts_linears_6, parameter: bias\u001b[0m\n",
      "\u001b[36mDEBUG   \u001b[0m \u001b[34mROM module bias successfully written into /home/omar/.mase/top/hardware/rtl/pts_linears_6_bias_source.sv\u001b[0m\n",
      "\u001b[36mDEBUG   \u001b[0m \u001b[34mInit data bias successfully written into /home/omar/.mase/top/hardware/rtl/pts_linears_6_bias_rom.dat\u001b[0m\n",
      "\u001b[36mDEBUG   \u001b[0m \u001b[34mEmitting DAT file for node: pts_linears_7, parameter: weight\u001b[0m\n",
      "\u001b[36mDEBUG   \u001b[0m \u001b[34mROM module weight successfully written into /home/omar/.mase/top/hardware/rtl/pts_linears_7_weight_source.sv\u001b[0m\n",
      "\u001b[36mDEBUG   \u001b[0m \u001b[34mInit data weight successfully written into /home/omar/.mase/top/hardware/rtl/pts_linears_7_weight_rom.dat\u001b[0m\n",
      "\u001b[36mDEBUG   \u001b[0m \u001b[34mEmitting DAT file for node: pts_linears_7, parameter: bias\u001b[0m\n",
      "\u001b[36mDEBUG   \u001b[0m \u001b[34mROM module bias successfully written into /home/omar/.mase/top/hardware/rtl/pts_linears_7_bias_source.sv\u001b[0m\n",
      "\u001b[36mDEBUG   \u001b[0m \u001b[34mInit data bias successfully written into /home/omar/.mase/top/hardware/rtl/pts_linears_7_bias_rom.dat\u001b[0m\n",
      "\u001b[36mDEBUG   \u001b[0m \u001b[34mEmitting DAT file for node: output_linear, parameter: weight\u001b[0m\n",
      "\u001b[36mDEBUG   \u001b[0m \u001b[34mROM module weight successfully written into /home/omar/.mase/top/hardware/rtl/output_linear_weight_source.sv\u001b[0m\n",
      "\u001b[36mDEBUG   \u001b[0m \u001b[34mInit data weight successfully written into /home/omar/.mase/top/hardware/rtl/output_linear_weight_rom.dat\u001b[0m\n",
      "\u001b[36mDEBUG   \u001b[0m \u001b[34mEmitting DAT file for node: output_linear, parameter: bias\u001b[0m\n",
      "\u001b[36mDEBUG   \u001b[0m \u001b[34mROM module bias successfully written into /home/omar/.mase/top/hardware/rtl/output_linear_bias_source.sv\u001b[0m\n",
      "\u001b[36mDEBUG   \u001b[0m \u001b[34mInit data bias successfully written into /home/omar/.mase/top/hardware/rtl/output_linear_bias_rom.dat\u001b[0m\n"
     ]
    }
   ],
   "source": [
    "mg, _ = emit_bram_transform_pass(mg)"
   ]
  },
  {
   "cell_type": "code",
   "execution_count": 17,
   "metadata": {},
   "outputs": [
    {
     "name": "stderr",
     "output_type": "stream",
     "text": [
      "\u001b[32mINFO    \u001b[0m \u001b[34mEmitting testbench...\u001b[0m\n"
     ]
    }
   ],
   "source": [
    "mg, _ = emit_cocotb_transform_pass(mg)"
   ]
  },
  {
   "cell_type": "code",
   "execution_count": null,
   "metadata": {},
   "outputs": [],
   "source": [
    "from chop.actions import simulate\n",
    "\n",
    "simulate(skip_build=False, skip_test=False, waves=True)"
   ]
  }
 ],
 "metadata": {
  "kernelspec": {
   "display_name": "venv",
   "language": "python",
   "name": "python3"
  },
  "language_info": {
   "codemirror_mode": {
    "name": "ipython",
    "version": 3
   },
   "file_extension": ".py",
   "mimetype": "text/x-python",
   "name": "python",
   "nbconvert_exporter": "python",
   "pygments_lexer": "ipython3",
   "version": "3.11.11"
  }
 },
 "nbformat": 4,
 "nbformat_minor": 2
}
