{
 "cells": [
  {
   "cell_type": "markdown",
   "metadata": {},
   "source": [
    "<br />\n",
    "<div align=\"center\">\n",
    "  <a href=\"https://deepwok.github.io/\">\n",
    "    <img src=\"../imgs/deepwok.png\" alt=\"Logo\" width=\"160\" height=\"160\">\n",
    "  </a>\n",
    "\n",
    "  <h1 align=\"center\">Lab 4 for Advanced Deep Learning Systems (ADLS) - Hardware Stream</h1>\n",
    "\n",
    "  <p align=\"center\">\n",
    "    ELEC70109/EE9-AML3-10/EE9-AO25\n",
    "    <br />\n",
    "\t\tWritten by\n",
    "    <a href=\"https://aaron-zhao123.github.io/\">Aaron Zhao, Pedro Gimenes </a>\n",
    "  </p>\n",
    "</div>"
   ]
  },
  {
   "cell_type": "markdown",
   "metadata": {},
   "source": [
    "# General introduction\n",
    "\n",
    "In this lab, you will learn how to emit SystemVerilog code for a neural network that's been transformed and optimized by MASE. Then, you'll design some hardware for a new Pytorch layer, and simulate the hardware using your new module."
   ]
  },
  {
   "cell_type": "markdown",
   "metadata": {},
   "source": [
    "# The Hardware Emit pass\n",
    "\n",
    "The `emit_verilog` transform pass generates a top-level RTL file and testbench file according to the `MaseGraph`, which includes a hardware implementation of each layer in the network. This top-level file instantiates modules from the `components` library in MASE and/or modules generated using [HLS](https://en.wikipedia.org/wiki/High-level_synthesis), when internal components are not available. The hardware can then be simulated using [Verilator](https://www.veripool.org/verilator/), or deployed on an FPGA.\n",
    "\n",
    "First, add Machop to your system PATH (if you haven't already done so) and import the required libraries."
   ]
  },
  {
   "cell_type": "code",
   "execution_count": 1,
   "metadata": {},
   "outputs": [
    {
     "name": "stderr",
     "output_type": "stream",
     "text": [
      "/home/luigirinaldi/anaconda3/envs/mxint-fork/lib/python3.11/site-packages/tqdm/auto.py:21: TqdmWarning: IProgress not found. Please update jupyter and ipywidgets. See https://ipywidgets.readthedocs.io/en/stable/user_install.html\n",
      "  from .autonotebook import tqdm as notebook_tqdm\n",
      "\u001b[32mINFO    \u001b[0m \u001b[34mSet logging level to debug\u001b[0m\n"
     ]
    },
    {
     "name": "stdout",
     "output_type": "stream",
     "text": [
      "Usage:\n",
      "        verilator --help\n",
      "        verilator --version\n",
      "        verilator --binary -j 0 [options] [source_files.v]... [opt_c_files.cpp/c/cc/a/o/so]\n",
      "        verilator --cc [options] [source_files.v]... [opt_c_files.cpp/c/cc/a/o/so]\n",
      "        verilator --sc [options] [source_files.v]... [opt_c_files.cpp/c/cc/a/o/so]\n",
      "        verilator --lint-only -Wall [source_files.v]...\n",
      "\n"
     ]
    }
   ],
   "source": [
    "import os, sys\n",
    "import torch \n",
    "torch.manual_seed(0)\n",
    "\n",
    "from chop.ir.graph.mase_graph import MaseGraph\n",
    "\n",
    "from chop.passes.graph.analysis import (\n",
    "    init_metadata_analysis_pass,\n",
    "    add_common_metadata_analysis_pass,\n",
    "    add_hardware_metadata_analysis_pass,\n",
    "    report_node_type_analysis_pass,\n",
    ")\n",
    "\n",
    "from chop.passes.graph.transforms import (\n",
    "    emit_verilog_top_transform_pass,\n",
    "    emit_internal_rtl_transform_pass,\n",
    "    emit_bram_transform_pass,\n",
    "    emit_cocotb_transform_pass,\n",
    "    quantize_transform_pass,\n",
    ")\n",
    "\n",
    "from chop.tools.logger import set_logging_verbosity\n",
    "\n",
    "set_logging_verbosity(\"debug\")\n",
    "\n",
    "import toml\n",
    "import torch\n",
    "import torch.nn as nn\n",
    "\n",
    "# TO DO: remove\n",
    "import os\n",
    "os.environ[\"PATH\"] = \"/opt/homebrew/bin:\" + os.environ[\"PATH\"]\n",
    "!verilator"
   ]
  },
  {
   "cell_type": "markdown",
   "metadata": {},
   "source": [
    "Now, define the neural network. We're using a model which can be used to perform digit classification on the MNIST dataset."
   ]
  },
  {
   "cell_type": "code",
   "execution_count": 2,
   "metadata": {},
   "outputs": [],
   "source": [
    "class MLP(torch.nn.Module):\n",
    "    \"\"\"\n",
    "    Toy FC model for digit recognition on MNIST\n",
    "    \"\"\"\n",
    "\n",
    "    def __init__(self) -> None:\n",
    "        super().__init__()\n",
    "\n",
    "        self.fc1 = nn.Linear(4, 8)\n",
    "\n",
    "    def forward(self, x):\n",
    "        # x = torch.flatten(x, start_dim=1, end_dim=-1)\n",
    "        # x = torch.nn.functional.relu(self.fc1(x))\n",
    "        x = self.fc1(x)\n",
    "        return x"
   ]
  },
  {
   "cell_type": "markdown",
   "metadata": {},
   "source": [
    "Now, we'll generate a MaseGraph and add metadata. "
   ]
  },
  {
   "cell_type": "markdown",
   "metadata": {},
   "source": [
    "Before running `emit_verilog`, we'll quantize the model to fixed precision. Refer back to [lab 3](https://deepwok.github.io/mase/modules/labs_2023/lab3.html) if you've forgotten how this works. Check that the data type for each node is correct after quantization."
   ]
  },
  {
   "cell_type": "code",
   "execution_count": 12,
   "metadata": {},
   "outputs": [
    {
     "name": "stderr",
     "output_type": "stream",
     "text": [
      "\u001b[36mDEBUG   \u001b[0m \u001b[34mgraph():\n",
      "    %x : [num_users=1] = placeholder[target=x]\n",
      "    %fc1 : [num_users=1] = call_module[target=fc1](args = (%x,), kwargs = {})\n",
      "    return fc1\u001b[0m\n",
      "\u001b[32mINFO    \u001b[0m \u001b[34mInspecting graph [add_common_node_type_analysis_pass]\u001b[0m\n",
      "\u001b[32mINFO    \u001b[0m \u001b[34m\n",
      "Node name    Fx Node op    Mase type            Mase op      Value type\n",
      "-----------  ------------  -------------------  -----------  ------------\n",
      "x            placeholder   placeholder          placeholder  NA\n",
      "fc1          call_module   module_related_func  linear       mxint\n",
      "output       output        output               output       NA\u001b[0m\n"
     ]
    },
    {
     "name": "stdout",
     "output_type": "stream",
     "text": [
      "x {'mase_type': 'placeholder', 'mase_op': 'placeholder', 'args': {}, 'results': OrderedDict([('data_out_0', {'type': 'float', 'precision': [32], 'shape': [8, 4], 'torch_dtype': torch.float32})])}\n",
      "fc1 {'mase_type': 'module_related_func', 'mase_op': 'linear', 'args': OrderedDict([('data_in_0', {'shape': [8, 4], 'torch_dtype': torch.float32, 'type': 'mxint', 'precision': [12, 4]}), ('weight', {'type': 'mxint', 'precision': [12, 4], 'shape': [8, 4], 'from': None}), ('bias', {'type': 'mxint', 'precision': [12, 4], 'shape': [1, 8], 'from': None})]), 'results': OrderedDict([('data_out_0', {'type': 'mxint', 'precision': [12, 4], 'shape': [8, 8], 'torch_dtype': torch.float32})])}\n",
      "output {'mase_type': 'output', 'mase_op': 'output', 'args': {}, 'results': OrderedDict([('data_out_0', {'type': 'float', 'precision': [32], 'shape': [8, 8], 'torch_dtype': torch.float32})])}\n"
     ]
    }
   ],
   "source": [
    "mlp = MLP()\n",
    "mg = MaseGraph(model=mlp)\n",
    "\n",
    "# Provide a dummy input for the graph so it can use for tracing\n",
    "batch_size = 8\n",
    "x = torch.randn((batch_size, 4))\n",
    "dummy_in = {\"x\": x}\n",
    "mlp.forward(x)\n",
    "\n",
    "mg, _ = init_metadata_analysis_pass(mg, None)\n",
    "mg, _ = add_common_metadata_analysis_pass(\n",
    "    mg, {\"dummy_in\": dummy_in, \"add_value\": False}\n",
    ")\n",
    "\n",
    "quan_args = {\n",
    "        \"by\": \"type\",\n",
    "        \"default\": {\n",
    "            \"config\": {\n",
    "                \"name\": \"mxint\",\n",
    "                # data\n",
    "                \"data_in_width\": 12,\n",
    "                \"data_in_exponent_width\": 4,\n",
    "                \"weight_block_size\": [1, 2],\n",
    "                # weight\n",
    "                \"weight_width\": 12,\n",
    "                \"weight_exponent_width\": 4,\n",
    "                \"bias_block_size\": [2, 2],\n",
    "                # bias\n",
    "                \"bias_width\": 12,\n",
    "                \"bias_exponent_width\": 4,\n",
    "                \"data_in_block_size\": [1, 2],\n",
    "            }\n",
    "        },\n",
    "    }\n",
    "\n",
    "mg, _ = quantize_transform_pass(mg, quan_args)\n",
    "\n",
    "_ = report_node_type_analysis_pass(mg)\n",
    "\n",
    "for node in mg.fx_graph.nodes:\n",
    "    # if not node.meta['mase']['hardware']['is_implicit']:\n",
    "    print(node, node.meta['mase']['common'])"
   ]
  },
  {
   "cell_type": "markdown",
   "metadata": {},
   "source": [
    "At this point, it's important to run the `add_hardware_metadata` analysis pass. This adds all the required metadata which is later used by the `emit_verilog` pass, including:\n",
    "\n",
    "1. The node's toolchain, which defines whether we use internal Verilog modules from the `components` library or the HLS flow.\n",
    "2. The Verilog parameters associated with each node.\n",
    "\n",
    "> **_TASK:_** Read [this page](https://deepwok.github.io/mase/modules/chop/analysis/add_metadata.html#add-hardware-metadata-analysis-pass) for more information on the hardware metadata pass."
   ]
  },
  {
   "cell_type": "code",
   "execution_count": 10,
   "metadata": {},
   "outputs": [
    {
     "name": "stderr",
     "output_type": "stream",
     "text": [
      "\u001b[32mINFO    \u001b[0m \u001b[34mInspecting graph [add_common_node_shape_analysis_pass]\u001b[0m\n",
      "\u001b[32mINFO    \u001b[0m \u001b[34mx:\n",
      "in:\n",
      "out:\n",
      "data_out_0 = [8, 4]\n",
      "\n",
      "fc1:\n",
      "in:\n",
      "data_in_0 = [8, 4]\n",
      "weight = {'type': 'mxint', 'precision': [12, 4], 'shape': [8, 4], 'from': None}\n",
      "bias = {'type': 'mxint', 'precision': [12, 4], 'shape': [1, 8], 'from': None}\n",
      "out:\n",
      "data_out_0 = [8, 8]\n",
      "\n",
      "output:\n",
      "in:\n",
      "out:\n",
      "data_out_0 = [8, 8]\n",
      "\n",
      "\u001b[0m\n"
     ]
    },
    {
     "name": "stdout",
     "output_type": "stream",
     "text": [
      "x\n",
      "fc1\n",
      "output\n",
      "fc1 {'mase_type': 'module_related_func', 'mase_op': 'linear', 'args': OrderedDict([('data_in_0', {'shape': [8, 4], 'torch_dtype': torch.float32, 'type': 'mxint', 'precision': [12, 4]}), ('weight', {'type': 'mxint', 'precision': [12, 4], 'shape': [8, 4], 'from': None}), ('bias', {'type': 'mxint', 'precision': [12, 4], 'shape': [1, 8], 'from': None})]), 'results': OrderedDict([('data_out_0', {'type': 'mxint', 'precision': [12, 4], 'shape': [8, 8], 'torch_dtype': torch.float32})])} {\n",
      "  \"is_implicit\": false,\n",
      "  \"device_id\": -1,\n",
      "  \"interface\": {\n",
      "    \"weight\": {\n",
      "      \"storage\": \"BRAM\",\n",
      "      \"transpose\": false\n",
      "    },\n",
      "    \"bias\": {\n",
      "      \"storage\": \"BRAM\",\n",
      "      \"transpose\": false\n",
      "    }\n",
      "  },\n",
      "  \"toolchain\": \"INTERNAL_RTL\",\n",
      "  \"module\": \"mxint_linear\",\n",
      "  \"dependence_files\": [\n",
      "    \"linear_layers/mxint_operators/rtl/mxint_linear.sv\",\n",
      "    \"linear_layers/mxint_operators/rtl/mxint_circular.sv\",\n",
      "    \"memory/rtl/input_buffer.sv\",\n",
      "    \"linear_layers/mxint_operators/rtl/mxint_dot_product.sv\",\n",
      "    \"linear_layers/mxint_operators/rtl/mxint_accumulator.sv\",\n",
      "    \"linear_layers/mxint_operators/rtl/mxint_cast.sv\",\n",
      "    \"linear_layers/mxint_operators/rtl/log2_max_abs.sv\",\n",
      "    \"linear_layers/mxint_operators/rtl/or_tree.sv\",\n",
      "    \"linear_layers/mxint_operators/rtl/or_tree_layer.sv\",\n",
      "    \"linear_layers/mxint_operators/rtl/mxint_register_slice.sv\",\n",
      "    \"common/rtl/unpacked_register_slice.sv\",\n",
      "    \"common/rtl/split2.sv\",\n",
      "    \"common/rtl/join2.sv\",\n",
      "    \"memory/rtl/unpacked_skid_buffer.sv\",\n",
      "    \"memory/rtl/skid_buffer.sv\",\n",
      "    \"memory/rtl/ultraram_fifo.sv\",\n",
      "    \"memory/rtl/ultraram.v\"\n",
      "  ],\n",
      "  \"max_parallelism\": [\n",
      "    4,\n",
      "    4,\n",
      "    4,\n",
      "    4\n",
      "  ],\n",
      "  \"verilog_param\": {\n",
      "    \"DATA_IN_0_PRECISION_0\": 12,\n",
      "    \"DATA_IN_0_PRECISION_1\": 4,\n",
      "    \"DATA_IN_0_TENSOR_SIZE_DIM_0\": 4,\n",
      "    \"DATA_IN_0_PARALLELISM_DIM_0\": 4,\n",
      "    \"DATA_IN_0_TENSOR_SIZE_DIM_1\": 8,\n",
      "    \"DATA_IN_0_PARALLELISM_DIM_1\": 4,\n",
      "    \"WEIGHT_PRECISION_0\": 12,\n",
      "    \"WEIGHT_PRECISION_1\": 4,\n",
      "    \"WEIGHT_TENSOR_SIZE_DIM_0\": 4,\n",
      "    \"WEIGHT_PARALLELISM_DIM_0\": 4,\n",
      "    \"WEIGHT_TENSOR_SIZE_DIM_1\": 8,\n",
      "    \"WEIGHT_PARALLELISM_DIM_1\": 4,\n",
      "    \"BIAS_PRECISION_0\": 12,\n",
      "    \"BIAS_PRECISION_1\": 4,\n",
      "    \"BIAS_TENSOR_SIZE_DIM_0\": 8,\n",
      "    \"BIAS_PARALLELISM_DIM_0\": 4,\n",
      "    \"BIAS_TENSOR_SIZE_DIM_1\": 1,\n",
      "    \"BIAS_PARALLELISM_DIM_1\": 1,\n",
      "    \"DATA_OUT_0_PRECISION_0\": 12,\n",
      "    \"DATA_OUT_0_PRECISION_1\": 4,\n",
      "    \"DATA_OUT_0_TENSOR_SIZE_DIM_0\": 8,\n",
      "    \"DATA_OUT_0_PARALLELISM_DIM_0\": 4,\n",
      "    \"DATA_OUT_0_TENSOR_SIZE_DIM_1\": 8,\n",
      "    \"DATA_OUT_0_PARALLELISM_DIM_1\": 4\n",
      "  }\n",
      "}\n"
     ]
    }
   ],
   "source": [
    "import json\n",
    "from chop.passes.graph.analysis.report import report_node_shape_analysis_pass\n",
    "mg, _ = add_hardware_metadata_analysis_pass(mg)\n",
    "\n",
    "report_node_shape_analysis_pass(mg, {})\n",
    "\n",
    "for node in mg.fx_graph.nodes:\n",
    "    if not node.meta['mase']['hardware']['is_implicit']:\n",
    "        print(node, node.meta['mase']['common'], json.dumps(node.meta['mase']['hardware'], indent=2))"
   ]
  },
  {
   "cell_type": "markdown",
   "metadata": {},
   "source": [
    "Finally, run the emit verilog pass to generate the SystemVerilog files."
   ]
  },
  {
   "cell_type": "code",
   "execution_count": 5,
   "metadata": {},
   "outputs": [
    {
     "name": "stderr",
     "output_type": "stream",
     "text": [
      "\u001b[32mINFO    \u001b[0m \u001b[34mEmitting Verilog...\u001b[0m\n",
      "\u001b[32mINFO    \u001b[0m \u001b[34mEmitting internal components...\u001b[0m\n"
     ]
    }
   ],
   "source": [
    "mg, _ = emit_verilog_top_transform_pass(mg)\n",
    "mg, _ = emit_internal_rtl_transform_pass(mg)"
   ]
  },
  {
   "cell_type": "markdown",
   "metadata": {},
   "source": [
    "The generated files should now be found under `top/hardware`. \n",
    "\n",
    "> **_TASK:_** Read through `top/hardware/rtl/top.sv` and make sure you understand how our MLP model maps to this hardware design. \n",
    "\n",
    "You will notice the following instantiated modules:\n",
    "\n",
    "* `fixed_linear`: this is found under `components/linear/fixed_linear.sv` and implements each Linear layer in the model.\n",
    "* `fc<layer number>_weight/bias_source`: these are [BRAM](https://nandland.com/lesson-15-what-is-a-block-ram-bram/) memories which drive the weights and biases into the linear layers for computation.\n",
    "* `fixed_relu`: found under `components/activations/fixed_relu.sv`, implements the ReLU activation.\n",
    "\n",
    "As of now, we can't yet run a simulation on the model, as we haven't yet generated the memory components. To do this, run the `emit_bram` transform pass as follows, which will generate the memory initialization files and SystemVerilog modules to drive weights and biases into the linear layers. Finally, the `emit_verilog_tb` transform pass will generate the testbench files.\n"
   ]
  },
  {
   "cell_type": "code",
   "execution_count": 6,
   "metadata": {},
   "outputs": [
    {
     "name": "stderr",
     "output_type": "stream",
     "text": [
      "\u001b[32mINFO    \u001b[0m \u001b[34mEmitting BRAM...\u001b[0m\n",
      "\u001b[36mDEBUG   \u001b[0m \u001b[34mEmitting DAT file for node: fc1, parameter: weight\u001b[0m\n",
      "\u001b[36mDEBUG   \u001b[0m \u001b[34mROM module weight successfully written into /home/luigirinaldi/.mase/top/hardware/rtl/fc1_weight_source.sv\u001b[0m\n"
     ]
    },
    {
     "ename": "AssertionError",
     "evalue": "Emitting non-fixed parameters is not supported.",
     "output_type": "error",
     "traceback": [
      "\u001b[31m---------------------------------------------------------------------------\u001b[39m",
      "\u001b[31mAssertionError\u001b[39m                            Traceback (most recent call last)",
      "\u001b[36mCell\u001b[39m\u001b[36m \u001b[39m\u001b[32mIn[6]\u001b[39m\u001b[32m, line 1\u001b[39m\n\u001b[32m----> \u001b[39m\u001b[32m1\u001b[39m mg, _ = \u001b[43memit_bram_transform_pass\u001b[49m\u001b[43m(\u001b[49m\u001b[43mmg\u001b[49m\u001b[43m)\u001b[49m\n",
      "\u001b[36mFile \u001b[39m\u001b[32m~/Documents/Imperial/Y4/ADL/coz-fork/src/chop/passes/graph/transforms/verilog/emit_bram.py:521\u001b[39m, in \u001b[36memit_bram_transform_pass\u001b[39m\u001b[34m(graph, pass_args)\u001b[39m\n\u001b[32m    519\u001b[39m     \u001b[38;5;28;01mcontinue\u001b[39;00m\n\u001b[32m    520\u001b[39m \u001b[38;5;28;01mif\u001b[39;00m \u001b[33m\"\u001b[39m\u001b[33mINTERNAL\u001b[39m\u001b[33m\"\u001b[39m \u001b[38;5;129;01min\u001b[39;00m node.meta[\u001b[33m\"\u001b[39m\u001b[33mmase\u001b[39m\u001b[33m\"\u001b[39m].parameters[\u001b[33m\"\u001b[39m\u001b[33mhardware\u001b[39m\u001b[33m\"\u001b[39m][\u001b[33m\"\u001b[39m\u001b[33mtoolchain\u001b[39m\u001b[33m\"\u001b[39m]:\n\u001b[32m--> \u001b[39m\u001b[32m521\u001b[39m     \u001b[43memit_bram_handshake\u001b[49m\u001b[43m(\u001b[49m\u001b[43mnode\u001b[49m\u001b[43m,\u001b[49m\u001b[43m \u001b[49m\u001b[43mrtl_dir\u001b[49m\u001b[43m)\u001b[49m\n\u001b[32m    522\u001b[39m \u001b[38;5;28;01melif\u001b[39;00m \u001b[33m\"\u001b[39m\u001b[33mMLIR_HLS\u001b[39m\u001b[33m\"\u001b[39m \u001b[38;5;129;01min\u001b[39;00m node.meta[\u001b[33m\"\u001b[39m\u001b[33mmase\u001b[39m\u001b[33m\"\u001b[39m].parameters[\u001b[33m\"\u001b[39m\u001b[33mhardware\u001b[39m\u001b[33m\"\u001b[39m][\u001b[33m\"\u001b[39m\u001b[33mtoolchain\u001b[39m\u001b[33m\"\u001b[39m]:\n\u001b[32m    523\u001b[39m     emit_bram_hls(node, rtl_dir)\n",
      "\u001b[36mFile \u001b[39m\u001b[32m~/Documents/Imperial/Y4/ADL/coz-fork/src/chop/passes/graph/transforms/verilog/emit_bram.py:367\u001b[39m, in \u001b[36memit_bram_handshake\u001b[39m\u001b[34m(node, rtl_dir)\u001b[39m\n\u001b[32m    363\u001b[39m     data_name = os.path.join(\n\u001b[32m    364\u001b[39m         rtl_dir, \u001b[33mf\u001b[39m\u001b[33m\"\u001b[39m\u001b[38;5;132;01m{\u001b[39;00mnode_name\u001b[38;5;132;01m}\u001b[39;00m\u001b[33m_\u001b[39m\u001b[38;5;132;01m{\u001b[39;00mparam_verilog_name\u001b[38;5;132;01m}\u001b[39;00m\u001b[33m_rom.dat\u001b[39m\u001b[33m\"\u001b[39m\n\u001b[32m    365\u001b[39m     )\n\u001b[32m    366\u001b[39m     emit_parameters_in_mem_internal(node, param_name, verilog_name, data_name)\n\u001b[32m--> \u001b[39m\u001b[32m367\u001b[39m     \u001b[43memit_parameters_in_dat_internal\u001b[49m\u001b[43m(\u001b[49m\u001b[43mnode\u001b[49m\u001b[43m,\u001b[49m\u001b[43m \u001b[49m\u001b[43mparam_name\u001b[49m\u001b[43m,\u001b[49m\u001b[43m \u001b[49m\u001b[43mdata_name\u001b[49m\u001b[43m)\u001b[49m\n\u001b[32m    368\u001b[39m \u001b[38;5;28;01melse\u001b[39;00m:\n\u001b[32m    369\u001b[39m     \u001b[38;5;28;01massert\u001b[39;00m \u001b[38;5;28;01mFalse\u001b[39;00m, \u001b[33m\"\u001b[39m\u001b[33mEmtting parameters in non-BRAM hardware is not supported.\u001b[39m\u001b[33m\"\u001b[39m\n",
      "\u001b[36mFile \u001b[39m\u001b[32m~/Documents/Imperial/Y4/ADL/coz-fork/src/chop/passes/graph/transforms/verilog/emit_bram.py:271\u001b[39m, in \u001b[36memit_parameters_in_dat_internal\u001b[39m\u001b[34m(node, param_name, file_name)\u001b[39m\n\u001b[32m    269\u001b[39m         data_buff += line_buff + \u001b[33m\"\u001b[39m\u001b[38;5;130;01m\\n\u001b[39;00m\u001b[33m\"\u001b[39m\n\u001b[32m    270\u001b[39m \u001b[38;5;28;01melse\u001b[39;00m:\n\u001b[32m--> \u001b[39m\u001b[32m271\u001b[39m     \u001b[38;5;28;01massert\u001b[39;00m \u001b[38;5;28;01mFalse\u001b[39;00m, \u001b[33m\"\u001b[39m\u001b[33mEmitting non-fixed parameters is not supported.\u001b[39m\u001b[33m\"\u001b[39m\n\u001b[32m    273\u001b[39m \u001b[38;5;28;01mwith\u001b[39;00m \u001b[38;5;28mopen\u001b[39m(file_name, \u001b[33m\"\u001b[39m\u001b[33mw\u001b[39m\u001b[33m\"\u001b[39m, encoding=\u001b[33m\"\u001b[39m\u001b[33mutf-8\u001b[39m\u001b[33m\"\u001b[39m) \u001b[38;5;28;01mas\u001b[39;00m outf:\n\u001b[32m    274\u001b[39m     outf.write(data_buff)\n",
      "\u001b[31mAssertionError\u001b[39m: Emitting non-fixed parameters is not supported."
     ]
    }
   ],
   "source": [
    "mg, _ = emit_bram_transform_pass(mg)"
   ]
  },
  {
   "cell_type": "code",
   "execution_count": null,
   "metadata": {},
   "outputs": [
    {
     "name": "stderr",
     "output_type": "stream",
     "text": [
      "\u001b[32mINFO    \u001b[0m \u001b[34mEmitting testbench...\u001b[0m\n"
     ]
    }
   ],
   "source": [
    "mg, _ = emit_cocotb_transform_pass(mg)\n"
   ]
  },
  {
   "cell_type": "markdown",
   "metadata": {},
   "source": [
    "> **_TASK:_** Now, you're ready to launch a simulation by calling the simulate action as follows."
   ]
  },
  {
   "cell_type": "code",
   "execution_count": null,
   "metadata": {},
   "outputs": [
    {
     "name": "stdout",
     "output_type": "stream",
     "text": [
      "INFO: Running command perl /opt/oss-cad-suite/bin/verilator -cc --exe -Mdir /home/luigirinaldi/Documents/Imperial/Y4/ADL/coz-fork/docs/labs/sim_build -DCOCOTB_SIM=1 --top-module top --vpi --public-flat-rw --prefix Vtop -o top -LDFLAGS '-Wl,-rpath,/home/luigirinaldi/anaconda3/envs/mxint-fork/lib/python3.11/site-packages/cocotb/libs -L/home/luigirinaldi/anaconda3/envs/mxint-fork/lib/python3.11/site-packages/cocotb/libs -lcocotbvpi_verilator' -Wno-fatal -Wno-lint -Wno-style --trace-fst --trace-structs --trace-depth 3 -I/home/luigirinaldi/.mase/top/hardware/rtl -I/home/luigirinaldi/Documents/Imperial/Y4/ADL/coz-fork/src/mase_components/activation_layers/rtl -I/home/luigirinaldi/Documents/Imperial/Y4/ADL/coz-fork/src/mase_components/cast/rtl -I/home/luigirinaldi/Documents/Imperial/Y4/ADL/coz-fork/src/mase_components/common/rtl -I/home/luigirinaldi/Documents/Imperial/Y4/ADL/coz-fork/src/mase_components/convolution_layers/rtl -I/home/luigirinaldi/Documents/Imperial/Y4/ADL/coz-fork/src/mase_components/helper/rtl -I/home/luigirinaldi/Documents/Imperial/Y4/ADL/coz-fork/src/mase_components/hls/rtl -I/home/luigirinaldi/Documents/Imperial/Y4/ADL/coz-fork/src/mase_components/interface/rtl -I/home/luigirinaldi/Documents/Imperial/Y4/ADL/coz-fork/src/mase_components/language_models/rtl -I/home/luigirinaldi/Documents/Imperial/Y4/ADL/coz-fork/src/mase_components/linear_layers/rtl -I/home/luigirinaldi/Documents/Imperial/Y4/ADL/coz-fork/src/mase_components/memory/rtl -I/home/luigirinaldi/Documents/Imperial/Y4/ADL/coz-fork/src/mase_components/normalization_layers/rtl -I/home/luigirinaldi/Documents/Imperial/Y4/ADL/coz-fork/src/mase_components/scalar_operators/rtl -I/home/luigirinaldi/Documents/Imperial/Y4/ADL/coz-fork/src/mase_components/systolic_arrays/rtl -I/home/luigirinaldi/Documents/Imperial/Y4/ADL/coz-fork/src/mase_components/transformer_layers/rtl -I/home/luigirinaldi/Documents/Imperial/Y4/ADL/coz-fork/src/mase_components/vision_models/rtl -I/home/luigirinaldi/Documents/Imperial/Y4/ADL/coz-fork/src/mase_components/vivado/rtl /home/luigirinaldi/anaconda3/envs/mxint-fork/lib/python3.11/site-packages/cocotb/share/lib/verilator/verilator.cpp /home/luigirinaldi/.mase/top/hardware/rtl/top.sv /home/luigirinaldi/.mase/top/hardware/rtl/matrix_unflatten.sv /home/luigirinaldi/.mase/top/hardware/rtl/matrix_fifo.sv /home/luigirinaldi/.mase/top/hardware/rtl/simple_matmul.sv /home/luigirinaldi/.mase/top/hardware/rtl/matrix_flatten.sv /home/luigirinaldi/.mase/top/hardware/rtl/fixed_mult.sv /home/luigirinaldi/.mase/top/hardware/rtl/fixed_cast.sv /home/luigirinaldi/.mase/top/hardware/rtl/fixed_adder_tree_layer.sv /home/luigirinaldi/.mase/top/hardware/rtl/unpacked_repeat_circular_buffer.sv /home/luigirinaldi/.mase/top/hardware/rtl/matrix_accumulator.sv /home/luigirinaldi/.mase/top/hardware/rtl/register_slice.sv /home/luigirinaldi/.mase/top/hardware/rtl/skid_buffer.sv /home/luigirinaldi/.mase/top/hardware/rtl/matrix_stream_transpose.sv /home/luigirinaldi/.mase/top/hardware/rtl/fixed_linear.sv /home/luigirinaldi/.mase/top/hardware/rtl/matmul.sv /home/luigirinaldi/.mase/top/hardware/rtl/fixed_adder_tree.sv /home/luigirinaldi/.mase/top/hardware/rtl/fixed_accumulator.sv /home/luigirinaldi/.mase/top/hardware/rtl/transpose.sv /home/luigirinaldi/.mase/top/hardware/rtl/fixed_vector_mult.sv /home/luigirinaldi/.mase/top/hardware/rtl/fixed_dot_product.sv /home/luigirinaldi/.mase/top/hardware/rtl/join2.sv /home/luigirinaldi/.mase/top/hardware/rtl/fixed_relu.sv /home/luigirinaldi/.mase/top/hardware/rtl/fc1_weight_source.sv /home/luigirinaldi/.mase/top/hardware/rtl/fc1_bias_source.sv in directory /home/luigirinaldi/Documents/Imperial/Y4/ADL/coz-fork/docs/labs/sim_build\n",
      "- V e r i l a t i o n   R e p o r t: Verilator 5.031 devel rev v5.030-87-gf58aee2ff\n",
      "- Verilator: Built from 1.464 MB sources in 43 modules, into 3.006 MB in 16 C++ files needing 0.001 MB\n",
      "- Verilator: Walltime 0.274 s (elab=0.020, cvt=0.197, bld=0.000); cpu 0.268 s on 1 threads; alloced 14.336 MB\n",
      "INFO: Running command make -C /home/luigirinaldi/Documents/Imperial/Y4/ADL/coz-fork/docs/labs/sim_build -f Vtop.mk VM_TRACE=0 in directory /home/luigirinaldi/Documents/Imperial/Y4/ADL/coz-fork/docs/labs/sim_build\n",
      "make: Entering directory '/home/luigirinaldi/Documents/Imperial/Y4/ADL/coz-fork/docs/labs/sim_build'\n",
      "g++  -I.  -MMD -I/opt/oss-cad-suite/share/verilator/include -I/opt/oss-cad-suite/share/verilator/include/vltstd -DVM_COVERAGE=0 -DVM_SC=0 -DVM_TIMING=0 -DVM_TRACE=0 -DVM_TRACE_FST=1 -DVM_TRACE_VCD=0 -faligned-new -fcf-protection=none -Wno-bool-operation -Wno-shadow -Wno-sign-compare -Wno-tautological-compare -Wno-uninitialized -Wno-unused-but-set-parameter -Wno-unused-but-set-variable -Wno-unused-parameter -Wno-unused-variable      -Os  -c -o verilator.o /home/luigirinaldi/anaconda3/envs/mxint-fork/lib/python3.11/site-packages/cocotb/share/lib/verilator/verilator.cpp\n",
      "g++ -Os  -I.  -MMD -I/opt/oss-cad-suite/share/verilator/include -I/opt/oss-cad-suite/share/verilator/include/vltstd -DVM_COVERAGE=0 -DVM_SC=0 -DVM_TIMING=0 -DVM_TRACE=0 -DVM_TRACE_FST=1 -DVM_TRACE_VCD=0 -faligned-new -fcf-protection=none -Wno-bool-operation -Wno-shadow -Wno-sign-compare -Wno-tautological-compare -Wno-uninitialized -Wno-unused-but-set-parameter -Wno-unused-but-set-variable -Wno-unused-parameter -Wno-unused-variable      -c -o verilated.o /opt/oss-cad-suite/share/verilator/include/verilated.cpp\n",
      "g++ -Os  -I.  -MMD -I/opt/oss-cad-suite/share/verilator/include -I/opt/oss-cad-suite/share/verilator/include/vltstd -DVM_COVERAGE=0 -DVM_SC=0 -DVM_TIMING=0 -DVM_TRACE=0 -DVM_TRACE_FST=1 -DVM_TRACE_VCD=0 -faligned-new -fcf-protection=none -Wno-bool-operation -Wno-shadow -Wno-sign-compare -Wno-tautological-compare -Wno-uninitialized -Wno-unused-but-set-parameter -Wno-unused-but-set-variable -Wno-unused-parameter -Wno-unused-variable      -c -o verilated_dpi.o /opt/oss-cad-suite/share/verilator/include/verilated_dpi.cpp\n",
      "g++ -Os  -I.  -MMD -I/opt/oss-cad-suite/share/verilator/include -I/opt/oss-cad-suite/share/verilator/include/vltstd -DVM_COVERAGE=0 -DVM_SC=0 -DVM_TIMING=0 -DVM_TRACE=0 -DVM_TRACE_FST=1 -DVM_TRACE_VCD=0 -faligned-new -fcf-protection=none -Wno-bool-operation -Wno-shadow -Wno-sign-compare -Wno-tautological-compare -Wno-uninitialized -Wno-unused-but-set-parameter -Wno-unused-but-set-variable -Wno-unused-parameter -Wno-unused-variable      -c -o verilated_vpi.o /opt/oss-cad-suite/share/verilator/include/verilated_vpi.cpp\n",
      "g++ -Os  -I.  -MMD -I/opt/oss-cad-suite/share/verilator/include -I/opt/oss-cad-suite/share/verilator/include/vltstd -DVM_COVERAGE=0 -DVM_SC=0 -DVM_TIMING=0 -DVM_TRACE=0 -DVM_TRACE_FST=1 -DVM_TRACE_VCD=0 -faligned-new -fcf-protection=none -Wno-bool-operation -Wno-shadow -Wno-sign-compare -Wno-tautological-compare -Wno-uninitialized -Wno-unused-but-set-parameter -Wno-unused-but-set-variable -Wno-unused-parameter -Wno-unused-variable      -c -o verilated_fst_c.o /opt/oss-cad-suite/share/verilator/include/verilated_fst_c.cpp\n",
      "g++ -Os  -I.  -MMD -I/opt/oss-cad-suite/share/verilator/include -I/opt/oss-cad-suite/share/verilator/include/vltstd -DVM_COVERAGE=0 -DVM_SC=0 -DVM_TIMING=0 -DVM_TRACE=0 -DVM_TRACE_FST=1 -DVM_TRACE_VCD=0 -faligned-new -fcf-protection=none -Wno-bool-operation -Wno-shadow -Wno-sign-compare -Wno-tautological-compare -Wno-uninitialized -Wno-unused-but-set-parameter -Wno-unused-but-set-variable -Wno-unused-parameter -Wno-unused-variable      -c -o verilated_threads.o /opt/oss-cad-suite/share/verilator/include/verilated_threads.cpp\n",
      "g++ -Os  -I.  -MMD -I/opt/oss-cad-suite/share/verilator/include -I/opt/oss-cad-suite/share/verilator/include/vltstd -DVM_COVERAGE=0 -DVM_SC=0 -DVM_TIMING=0 -DVM_TRACE=0 -DVM_TRACE_FST=1 -DVM_TRACE_VCD=0 -faligned-new -fcf-protection=none -Wno-bool-operation -Wno-shadow -Wno-sign-compare -Wno-tautological-compare -Wno-uninitialized -Wno-unused-but-set-parameter -Wno-unused-but-set-variable -Wno-unused-parameter -Wno-unused-variable      -x c++-header Vtop__pch.h -o Vtop__pch.h.fast.gch\n",
      "g++ -Os  -I.  -MMD -I/opt/oss-cad-suite/share/verilator/include -I/opt/oss-cad-suite/share/verilator/include/vltstd -DVM_COVERAGE=0 -DVM_SC=0 -DVM_TIMING=0 -DVM_TRACE=0 -DVM_TRACE_FST=1 -DVM_TRACE_VCD=0 -faligned-new -fcf-protection=none -Wno-bool-operation -Wno-shadow -Wno-sign-compare -Wno-tautological-compare -Wno-uninitialized -Wno-unused-but-set-parameter -Wno-unused-but-set-variable -Wno-unused-parameter -Wno-unused-variable      -include Vtop__pch.h.fast -c -o Vtop.o Vtop.cpp\n",
      "g++ -Os  -I.  -MMD -I/opt/oss-cad-suite/share/verilator/include -I/opt/oss-cad-suite/share/verilator/include/vltstd -DVM_COVERAGE=0 -DVM_SC=0 -DVM_TIMING=0 -DVM_TRACE=0 -DVM_TRACE_FST=1 -DVM_TRACE_VCD=0 -faligned-new -fcf-protection=none -Wno-bool-operation -Wno-shadow -Wno-sign-compare -Wno-tautological-compare -Wno-uninitialized -Wno-unused-but-set-parameter -Wno-unused-but-set-variable -Wno-unused-parameter -Wno-unused-variable      -include Vtop__pch.h.fast -c -o Vtop___024root__DepSet_h84412442__0.o Vtop___024root__DepSet_h84412442__0.cpp\n",
      "g++ -Os  -I.  -MMD -I/opt/oss-cad-suite/share/verilator/include -I/opt/oss-cad-suite/share/verilator/include/vltstd -DVM_COVERAGE=0 -DVM_SC=0 -DVM_TIMING=0 -DVM_TRACE=0 -DVM_TRACE_FST=1 -DVM_TRACE_VCD=0 -faligned-new -fcf-protection=none -Wno-bool-operation -Wno-shadow -Wno-sign-compare -Wno-tautological-compare -Wno-uninitialized -Wno-unused-but-set-parameter -Wno-unused-but-set-variable -Wno-unused-parameter -Wno-unused-variable      -include Vtop__pch.h.fast -c -o Vtop___024root__DepSet_h84412442__1.o Vtop___024root__DepSet_h84412442__1.cpp\n",
      "g++ -Os  -I.  -MMD -I/opt/oss-cad-suite/share/verilator/include -I/opt/oss-cad-suite/share/verilator/include/vltstd -DVM_COVERAGE=0 -DVM_SC=0 -DVM_TIMING=0 -DVM_TRACE=0 -DVM_TRACE_FST=1 -DVM_TRACE_VCD=0 -faligned-new -fcf-protection=none -Wno-bool-operation -Wno-shadow -Wno-sign-compare -Wno-tautological-compare -Wno-uninitialized -Wno-unused-but-set-parameter -Wno-unused-but-set-variable -Wno-unused-parameter -Wno-unused-variable      -include Vtop__pch.h.fast -c -o Vtop___024root__DepSet_heccd7ead__0.o Vtop___024root__DepSet_heccd7ead__0.cpp\n",
      "g++ -Os  -I.  -MMD -I/opt/oss-cad-suite/share/verilator/include -I/opt/oss-cad-suite/share/verilator/include/vltstd -DVM_COVERAGE=0 -DVM_SC=0 -DVM_TIMING=0 -DVM_TRACE=0 -DVM_TRACE_FST=1 -DVM_TRACE_VCD=0 -faligned-new -fcf-protection=none -Wno-bool-operation -Wno-shadow -Wno-sign-compare -Wno-tautological-compare -Wno-uninitialized -Wno-unused-but-set-parameter -Wno-unused-but-set-variable -Wno-unused-parameter -Wno-unused-variable      -include Vtop__pch.h.fast -c -o Vtop_fixed_dot_product__I8_W8__DepSet_h6108f7e9__0.o Vtop_fixed_dot_product__I8_W8__DepSet_h6108f7e9__0.cpp\n",
      "g++ -Os  -I.  -MMD -I/opt/oss-cad-suite/share/verilator/include -I/opt/oss-cad-suite/share/verilator/include/vltstd -DVM_COVERAGE=0 -DVM_SC=0 -DVM_TIMING=0 -DVM_TRACE=0 -DVM_TRACE_FST=1 -DVM_TRACE_VCD=0 -faligned-new -fcf-protection=none -Wno-bool-operation -Wno-shadow -Wno-sign-compare -Wno-tautological-compare -Wno-uninitialized -Wno-unused-but-set-parameter -Wno-unused-but-set-variable -Wno-unused-parameter -Wno-unused-variable      -include Vtop__pch.h.fast -c -o Vtop__Dpi.o Vtop__Dpi.cpp\n",
      "g++ -Os  -I.  -MMD -I/opt/oss-cad-suite/share/verilator/include -I/opt/oss-cad-suite/share/verilator/include/vltstd -DVM_COVERAGE=0 -DVM_SC=0 -DVM_TIMING=0 -DVM_TRACE=0 -DVM_TRACE_FST=1 -DVM_TRACE_VCD=0 -faligned-new -fcf-protection=none -Wno-bool-operation -Wno-shadow -Wno-sign-compare -Wno-tautological-compare -Wno-uninitialized -Wno-unused-but-set-parameter -Wno-unused-but-set-variable -Wno-unused-parameter -Wno-unused-variable      -include Vtop__pch.h.fast -c -o Vtop__Trace__0.o Vtop__Trace__0.cpp\n",
      "g++   -I.  -MMD -I/opt/oss-cad-suite/share/verilator/include -I/opt/oss-cad-suite/share/verilator/include/vltstd -DVM_COVERAGE=0 -DVM_SC=0 -DVM_TIMING=0 -DVM_TRACE=0 -DVM_TRACE_FST=1 -DVM_TRACE_VCD=0 -faligned-new -fcf-protection=none -Wno-bool-operation -Wno-shadow -Wno-sign-compare -Wno-tautological-compare -Wno-uninitialized -Wno-unused-but-set-parameter -Wno-unused-but-set-variable -Wno-unused-parameter -Wno-unused-variable      -x c++-header Vtop__pch.h -o Vtop__pch.h.slow.gch\n",
      "g++   -I.  -MMD -I/opt/oss-cad-suite/share/verilator/include -I/opt/oss-cad-suite/share/verilator/include/vltstd -DVM_COVERAGE=0 -DVM_SC=0 -DVM_TIMING=0 -DVM_TRACE=0 -DVM_TRACE_FST=1 -DVM_TRACE_VCD=0 -faligned-new -fcf-protection=none -Wno-bool-operation -Wno-shadow -Wno-sign-compare -Wno-tautological-compare -Wno-uninitialized -Wno-unused-but-set-parameter -Wno-unused-but-set-variable -Wno-unused-parameter -Wno-unused-variable      -include Vtop__pch.h.slow -c -o Vtop__ConstPool_0.o Vtop__ConstPool_0.cpp\n",
      "g++   -I.  -MMD -I/opt/oss-cad-suite/share/verilator/include -I/opt/oss-cad-suite/share/verilator/include/vltstd -DVM_COVERAGE=0 -DVM_SC=0 -DVM_TIMING=0 -DVM_TRACE=0 -DVM_TRACE_FST=1 -DVM_TRACE_VCD=0 -faligned-new -fcf-protection=none -Wno-bool-operation -Wno-shadow -Wno-sign-compare -Wno-tautological-compare -Wno-uninitialized -Wno-unused-but-set-parameter -Wno-unused-but-set-variable -Wno-unused-parameter -Wno-unused-variable      -include Vtop__pch.h.slow -c -o Vtop___024root__Slow.o Vtop___024root__Slow.cpp\n",
      "g++   -I.  -MMD -I/opt/oss-cad-suite/share/verilator/include -I/opt/oss-cad-suite/share/verilator/include/vltstd -DVM_COVERAGE=0 -DVM_SC=0 -DVM_TIMING=0 -DVM_TRACE=0 -DVM_TRACE_FST=1 -DVM_TRACE_VCD=0 -faligned-new -fcf-protection=none -Wno-bool-operation -Wno-shadow -Wno-sign-compare -Wno-tautological-compare -Wno-uninitialized -Wno-unused-but-set-parameter -Wno-unused-but-set-variable -Wno-unused-parameter -Wno-unused-variable      -include Vtop__pch.h.slow -c -o Vtop___024root__DepSet_h84412442__0__Slow.o Vtop___024root__DepSet_h84412442__0__Slow.cpp\n",
      "g++   -I.  -MMD -I/opt/oss-cad-suite/share/verilator/include -I/opt/oss-cad-suite/share/verilator/include/vltstd -DVM_COVERAGE=0 -DVM_SC=0 -DVM_TIMING=0 -DVM_TRACE=0 -DVM_TRACE_FST=1 -DVM_TRACE_VCD=0 -faligned-new -fcf-protection=none -Wno-bool-operation -Wno-shadow -Wno-sign-compare -Wno-tautological-compare -Wno-uninitialized -Wno-unused-but-set-parameter -Wno-unused-but-set-variable -Wno-unused-parameter -Wno-unused-variable      -include Vtop__pch.h.slow -c -o Vtop___024root__DepSet_heccd7ead__0__Slow.o Vtop___024root__DepSet_heccd7ead__0__Slow.cpp\n",
      "g++   -I.  -MMD -I/opt/oss-cad-suite/share/verilator/include -I/opt/oss-cad-suite/share/verilator/include/vltstd -DVM_COVERAGE=0 -DVM_SC=0 -DVM_TIMING=0 -DVM_TRACE=0 -DVM_TRACE_FST=1 -DVM_TRACE_VCD=0 -faligned-new -fcf-protection=none -Wno-bool-operation -Wno-shadow -Wno-sign-compare -Wno-tautological-compare -Wno-uninitialized -Wno-unused-but-set-parameter -Wno-unused-but-set-variable -Wno-unused-parameter -Wno-unused-variable      -include Vtop__pch.h.slow -c -o Vtop_fixed_dot_product__I8_W8__Slow.o Vtop_fixed_dot_product__I8_W8__Slow.cpp\n",
      "g++   -I.  -MMD -I/opt/oss-cad-suite/share/verilator/include -I/opt/oss-cad-suite/share/verilator/include/vltstd -DVM_COVERAGE=0 -DVM_SC=0 -DVM_TIMING=0 -DVM_TRACE=0 -DVM_TRACE_FST=1 -DVM_TRACE_VCD=0 -faligned-new -fcf-protection=none -Wno-bool-operation -Wno-shadow -Wno-sign-compare -Wno-tautological-compare -Wno-uninitialized -Wno-unused-but-set-parameter -Wno-unused-but-set-variable -Wno-unused-parameter -Wno-unused-variable      -include Vtop__pch.h.slow -c -o Vtop_fixed_dot_product__I8_W8__DepSet_h6108f7e9__0__Slow.o Vtop_fixed_dot_product__I8_W8__DepSet_h6108f7e9__0__Slow.cpp\n",
      "g++   -I.  -MMD -I/opt/oss-cad-suite/share/verilator/include -I/opt/oss-cad-suite/share/verilator/include/vltstd -DVM_COVERAGE=0 -DVM_SC=0 -DVM_TIMING=0 -DVM_TRACE=0 -DVM_TRACE_FST=1 -DVM_TRACE_VCD=0 -faligned-new -fcf-protection=none -Wno-bool-operation -Wno-shadow -Wno-sign-compare -Wno-tautological-compare -Wno-uninitialized -Wno-unused-but-set-parameter -Wno-unused-but-set-variable -Wno-unused-parameter -Wno-unused-variable      -include Vtop__pch.h.slow -c -o Vtop__Syms.o Vtop__Syms.cpp\n",
      "g++   -I.  -MMD -I/opt/oss-cad-suite/share/verilator/include -I/opt/oss-cad-suite/share/verilator/include/vltstd -DVM_COVERAGE=0 -DVM_SC=0 -DVM_TIMING=0 -DVM_TRACE=0 -DVM_TRACE_FST=1 -DVM_TRACE_VCD=0 -faligned-new -fcf-protection=none -Wno-bool-operation -Wno-shadow -Wno-sign-compare -Wno-tautological-compare -Wno-uninitialized -Wno-unused-but-set-parameter -Wno-unused-but-set-variable -Wno-unused-parameter -Wno-unused-variable      -include Vtop__pch.h.slow -c -o Vtop__Trace__0__Slow.o Vtop__Trace__0__Slow.cpp\n",
      "g++   -I.  -MMD -I/opt/oss-cad-suite/share/verilator/include -I/opt/oss-cad-suite/share/verilator/include/vltstd -DVM_COVERAGE=0 -DVM_SC=0 -DVM_TIMING=0 -DVM_TRACE=0 -DVM_TRACE_FST=1 -DVM_TRACE_VCD=0 -faligned-new -fcf-protection=none -Wno-bool-operation -Wno-shadow -Wno-sign-compare -Wno-tautological-compare -Wno-uninitialized -Wno-unused-but-set-parameter -Wno-unused-but-set-variable -Wno-unused-parameter -Wno-unused-variable      -include Vtop__pch.h.slow -c -o Vtop__TraceDecls__0__Slow.o Vtop__TraceDecls__0__Slow.cpp\n"
     ]
    },
    {
     "name": "stderr",
     "output_type": "stream",
     "text": [
      "\u001b[32mINFO    \u001b[0m \u001b[34mBuild finished. Time taken: 20.94s\u001b[0m\n"
     ]
    },
    {
     "name": "stdout",
     "output_type": "stream",
     "text": [
      "echo \"\" > Vtop__ALL.verilator_deplist.tmp\n",
      "g++    verilator.o verilated.o verilated_dpi.o verilated_vpi.o verilated_fst_c.o verilated_threads.o Vtop__ALL.a   -Wl,-rpath,/home/luigirinaldi/anaconda3/envs/mxint-fork/lib/python3.11/site-packages/cocotb/libs -L/home/luigirinaldi/anaconda3/envs/mxint-fork/lib/python3.11/site-packages/cocotb/libs -lcocotbvpi_verilator -lz  -pthread -lpthread -latomic   -o top\n",
      "rm Vtop__ALL.verilator_deplist.tmp\n",
      "make: Leaving directory '/home/luigirinaldi/Documents/Imperial/Y4/ADL/coz-fork/docs/labs/sim_build'\n",
      "INFO: Running command /home/luigirinaldi/Documents/Imperial/Y4/ADL/coz-fork/docs/labs/sim_build/top in directory /home/luigirinaldi/Documents/Imperial/Y4/ADL/coz-fork/docs/labs/sim_build\n",
      "     -.--ns INFO     gpi                                ..mbed/gpi_embed.cpp:79   in set_program_name_in_venv        Did not detect Python virtual environment. Using system-wide Python interpreter\n",
      "     -.--ns INFO     gpi                                ../gpi/GpiCommon.cpp:101  in gpi_print_registered_impl       VPI registered\n",
      "     0.00ns INFO     cocotb                             Running on Verilator version 5.031 devel\n",
      "     0.00ns INFO     cocotb                             Running tests with cocotb v1.9.2 from /home/luigirinaldi/anaconda3/envs/mxint-fork/lib/python3.11/site-packages/cocotb\n",
      "     0.00ns INFO     cocotb                             Seeding Python random module with 1741553768\n",
      "     0.00ns INFO     cocotb.regression                  Found test mase_top_tb.test.test\n",
      "     0.00ns INFO     cocotb.regression                  running test (1/1)\n"
     ]
    },
    {
     "name": "stderr",
     "output_type": "stream",
     "text": [
      "/home/luigirinaldi/Documents/Imperial/Y4/ADL/coz-fork/src/mase_cocotb/driver.py:25: DeprecationWarning: This method is now private.\n",
      "  self._thread = cocotb.scheduler.add(self._send_thread())\n",
      "/home/luigirinaldi/Documents/Imperial/Y4/ADL/coz-fork/src/mase_cocotb/monitor.py:27: DeprecationWarning: This method is now private.\n",
      "  self._thread = cocotb.scheduler.add(self._recv_thread())\n",
      "/home/luigirinaldi/anaconda3/envs/mxint-fork/lib/python3.11/tempfile.py:934: ResourceWarning: Implicitly cleaning up <TemporaryDirectory '/tmp/tmprkhzje2g'>\n",
      "  _warnings.warn(warn_message, ResourceWarning)\n"
     ]
    },
    {
     "name": "stdout",
     "output_type": "stream",
     "text": [
      "    60.00ns DEBUG    cocotb.driver.StreamDriver         Sent [3, 6, 0, 1]\n",
      "   260.00ns DEBUG    cocotb.monitor.StreamMonitor       Observed output beat [0, 0, 0, 0]\n",
      "   260.00ns DEBUG    cocotb.monitor.StreamMonitor       Got [0, 0, 0, 0], Expected [0, 0, 0, 0]\n",
      "   280.00ns DEBUG    cocotb.monitor.StreamMonitor       Observed output beat [0, 6, 1, 0]\n",
      "   280.00ns DEBUG    cocotb.monitor.StreamMonitor       Got [0, 6, 1, 0], Expected [0, 6, 2, 0]\n",
      "   280.00ns INFO     cocotb.monitor.StreamMonitor       Monitor has been drained.\n",
      "   280.00ns INFO     cocotb.regression                  test passed\n",
      "   280.00ns INFO     cocotb.regression                  **************************************************************************************\n",
      "                                                        ** TEST                          STATUS  SIM TIME (ns)  REAL TIME (s)  RATIO (ns/s) **\n",
      "                                                        **************************************************************************************\n",
      "                                                        ** mase_top_tb.test.test          PASS         280.00           5.71         49.06  **\n",
      "                                                        **************************************************************************************\n",
      "                                                        ** TESTS=1 PASS=1 FAIL=0 SKIP=0                280.00           5.88         47.65  **\n",
      "                                                        **************************************************************************************\n",
      "                                                        \n"
     ]
    },
    {
     "name": "stderr",
     "output_type": "stream",
     "text": [
      "\u001b[32mINFO    \u001b[0m \u001b[34mTest finished. Time taken: 7.23s\u001b[0m\n"
     ]
    },
    {
     "name": "stdout",
     "output_type": "stream",
     "text": [
      "- :0: Verilog $finish\n",
      "INFO: Results file: /home/luigirinaldi/Documents/Imperial/Y4/ADL/coz-fork/docs/labs/sim_build/results.xml\n"
     ]
    }
   ],
   "source": [
    "from chop.actions import simulate\n",
    "\n",
    "simulate(skip_build=False, skip_test=False)"
   ]
  },
  {
   "cell_type": "markdown",
   "metadata": {},
   "source": [
    "The `simulate` action creates a `dump.vcd` file within the `sim_build` directory, which contains the waveform trace of the simulation. The waveforms can be opened with a viewer like GTKWave.\n",
    "\n",
    "> **TASK**: Follow the instructions [here](https://gtkwave.sourceforge.net/) to install GTKWave on your platform, then open the generated trace file to inspect the signals in the simulation."
   ]
  },
  {
   "cell_type": "markdown",
   "metadata": {},
   "source": [
    "# Main Task\n",
    "\n",
    "Pytorch has a number of layers which are available to users to define neural network models. At the moment, `emit_verilog` supports generating Verilog for models including Linear layers and the ReLU activation.\n",
    "\n",
    "> **_MAIN TASK:_** choose another layer type from the [Pytorch list](https://pytorch.org/docs/stable/nn.html#non-linear-activations-weighted-sum-nonlinearity) and write a SystemVerilog file to implement that layer in hardware. Then, change the generated `top.sv` file to inject that layer within the design. For example, you may replace the ReLU activations with [Leaky ReLU](https://pytorch.org/docs/stable/generated/torch.nn.RReLU.html#torch.nn.RReLU). Re-run the simulation and observe the effect on latency and accuracy."
   ]
  }
 ],
 "metadata": {
  "kernelspec": {
   "display_name": "mxint-fork",
   "language": "python",
   "name": "python3"
  },
  "language_info": {
   "codemirror_mode": {
    "name": "ipython",
    "version": 3
   },
   "file_extension": ".py",
   "mimetype": "text/x-python",
   "name": "python",
   "nbconvert_exporter": "python",
   "pygments_lexer": "ipython3",
   "version": "3.11.11"
  }
 },
 "nbformat": 4,
 "nbformat_minor": 2
}
