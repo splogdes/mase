{
 "cells": [
  {
   "cell_type": "code",
   "execution_count": 1,
   "metadata": {},
   "outputs": [
    {
     "name": "stderr",
     "output_type": "stream",
     "text": [
      "/home/luigirinaldi/anaconda3/envs/mxint-fork/lib/python3.11/site-packages/tqdm/auto.py:21: TqdmWarning: IProgress not found. Please update jupyter and ipywidgets. See https://ipywidgets.readthedocs.io/en/stable/user_install.html\n",
      "  from .autonotebook import tqdm as notebook_tqdm\n"
     ]
    }
   ],
   "source": [
    "from chop.nn.quantized.functional import linearMXIntHardware\n",
    "import torch\n"
   ]
  },
  {
   "cell_type": "code",
   "execution_count": 2,
   "metadata": {},
   "outputs": [
    {
     "name": "stdout",
     "output_type": "stream",
     "text": [
      "tensor([[2.4727, 2.1992, 1.5781, 1.4648],\n",
      "        [2.1562, 2.4805, 1.3750, 1.3477],\n",
      "        [2.5664, 2.6055, 1.8984, 2.0977],\n",
      "        [2.0508, 2.4023, 2.0391, 2.0938],\n",
      "        [1.6562, 1.9414, 2.0195, 1.0586],\n",
      "        [1.6562, 2.0820, 1.8633, 1.6055],\n",
      "        [3.1250, 3.4961, 2.3203, 3.0859],\n",
      "        [1.9805, 1.5156, 1.3516, 1.9336]])\n"
     ]
    },
    {
     "name": "stderr",
     "output_type": "stream",
     "text": [
      "/home/luigirinaldi/Documents/Imperial/Y4/ADL/coz-fork/src/chop/nn/quantizers/mxint_hardware.py:74: UserWarning: To copy construct from a tensor, it is recommended to use sourceTensor.clone().detach() or sourceTensor.clone().detach().requires_grad_(True), rather than torch.tensor(sourceTensor).\n",
      "  reshaped_tensor = torch.tensor(reshaped_tensor.reshape(-1, p1 * p0))\n"
     ]
    },
    {
     "data": {
      "text/plain": [
       "torch.Size([8, 4])"
      ]
     },
     "execution_count": 2,
     "metadata": {},
     "output_type": "execute_result"
    }
   ],
   "source": [
    "\n",
    "width, exp_width, parallel = 8,3, [2,2]\n",
    "\n",
    "quant_config = {\n",
    "    \"weight_width\": width,\n",
    "    \"weight_exponent_width\": exp_width,\n",
    "    \"weight_parallelism\": parallel,\n",
    "    \"bias_width\": width,\n",
    "    \"bias_exponent_width\": exp_width,\n",
    "    \"bias_parallelism\": parallel,\n",
    "    \"data_in_width\": width,\n",
    "    \"data_in_exponent_width\": exp_width,\n",
    "    \"data_in_parallelism\": parallel\n",
    "}\n",
    "\n",
    "x = torch.rand([8,8])\n",
    "weight = torch.rand([4,8])\n",
    "bias = torch.rand([8,4])\n",
    "\n",
    "layer = linearMXIntHardware(x,weight,bias=bias, config=quant_config)\n",
    "\n",
    "print(layer)\n",
    "layer.shape"
   ]
  }
 ],
 "metadata": {
  "kernelspec": {
   "display_name": "mxint-fork",
   "language": "python",
   "name": "python3"
  },
  "language_info": {
   "codemirror_mode": {
    "name": "ipython",
    "version": 3
   },
   "file_extension": ".py",
   "mimetype": "text/x-python",
   "name": "python",
   "nbconvert_exporter": "python",
   "pygments_lexer": "ipython3",
   "version": "3.11.11"
  }
 },
 "nbformat": 4,
 "nbformat_minor": 2
}
